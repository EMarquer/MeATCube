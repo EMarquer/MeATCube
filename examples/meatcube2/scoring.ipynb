{
 "cells": [
  {
   "cell_type": "code",
   "execution_count": 1,
   "metadata": {},
   "outputs": [],
   "source": [
    "import matplotlib.pyplot as plt\n",
    "import numpy as np\n",
    "from matplotlib.colors import ListedColormap\n",
    "\n",
    "from sklearn.model_selection import train_test_split\n",
    "from sklearn.pipeline import make_pipeline\n",
    "from sklearn.inspection import DecisionBoundaryDisplay\n",
    "from sklearn.preprocessing import StandardScaler, QuantileTransformer"
   ]
  },
  {
   "cell_type": "code",
   "execution_count": 2,
   "metadata": {},
   "outputs": [],
   "source": [
    "# as the code is loaded from a subfolder, we use the following snippet to add meatcube2 to the import path\n",
    "# for a normal usage with meatcube2 installed, the two following lines are unnecessary\n",
    "import sys, os\n",
    "try:\n",
    "    current_folder = os.path.dirname(__file__) # normal way\n",
    "except NameError:\n",
    "    current_folder = globals()['_dh'][0] # jupyter notebook way\n",
    "sys.path.append(os.path.join(current_folder, '../..'))\n",
    "\n",
    "# we load meatcube2 \n",
    "from meatcube2.models.meatcube_torch import MeATCubeCB\n",
    "from meatcube2.models.ct_coat import CtCoAT\n",
    "from meatcube2.models.ct_coat_naive import CtCoAT as CtCoATNaive\n",
    "from meatcube2.models.AbstractEnergyBasedClassifier import ACaseBaseEnergyClassifier"
   ]
  },
  {
   "cell_type": "code",
   "execution_count": 3,
   "metadata": {},
   "outputs": [],
   "source": [
    "from scipy.linalg import norm\n",
    "from scipy.spatial.distance import euclidean, cosine, correlation, braycurtis, hamming\n",
    "def euclidean_sim(x1,x2):\n",
    "    return np.exp(-euclidean(x1,x2))\n",
    "def cosine_sim(x1,x2):\n",
    "    return np.exp(-cosine(x1,x2))\n",
    "def correlation_sim(x1,x2):\n",
    "    return np.exp(-correlation(x1,x2))\n",
    "def hamming_sim(x1,x2):\n",
    "    return np.exp(-hamming(x1,x2))\n",
    "def radius_sim(x1,x2):\n",
    "    return np.exp(-abs(norm(x1)-norm(x2)))\n",
    "def class_equality_sim(y1,y2):\n",
    "    return np.equal(y1,y2).astype(float)"
   ]
  },
  {
   "cell_type": "code",
   "execution_count": 4,
   "metadata": {},
   "outputs": [],
   "source": [
    "from sklearn.discriminant_analysis import QuadraticDiscriminantAnalysis\n",
    "from sklearn.ensemble import AdaBoostClassifier, RandomForestClassifier\n",
    "from sklearn.gaussian_process import GaussianProcessClassifier\n",
    "from sklearn.naive_bayes import GaussianNB\n",
    "from sklearn.neighbors import KNeighborsClassifier\n",
    "from sklearn.neural_network import MLPClassifier\n",
    "from sklearn.gaussian_process.kernels import RBF\n",
    "from sklearn.svm import SVC\n",
    "from sklearn.tree import DecisionTreeClassifier"
   ]
  },
  {
   "cell_type": "code",
   "execution_count": 5,
   "metadata": {},
   "outputs": [],
   "source": [
    "from sklearn.datasets import make_circles, make_classification, make_moons\n",
    "\n",
    "# some linearly separable data with added noise\n",
    "X, y = make_classification(\n",
    "    n_features=2, n_redundant=0, n_informative=2, random_state=1, n_clusters_per_class=1\n",
    ")\n",
    "rng = np.random.RandomState(2)\n",
    "X += 2 * rng.uniform(size=X.shape)\n",
    "linearly_separable = (X, y)\n",
    "\n",
    "\n",
    "# our three datasets\n",
    "dataset_names = [\n",
    "    \"Moons\",\n",
    "    \"Circles\",\n",
    "    \"Line\",\n",
    "]\n",
    "datasets = [\n",
    "    make_moons(noise=0.3, random_state=0),\n",
    "    make_circles(noise=0.2, factor=0.5, random_state=1),\n",
    "    linearly_separable,\n",
    "]"
   ]
  },
  {
   "cell_type": "code",
   "execution_count": 6,
   "metadata": {},
   "outputs": [],
   "source": [
    "name = \"MeATCube ($\\sigma_X$: Euclidean, $\\sigma_y$: class)\"\n",
    "clf = MeATCubeCB(euclidean_sim, class_equality_sim)"
   ]
  },
  {
   "cell_type": "code",
   "execution_count": 7,
   "metadata": {},
   "outputs": [
    {
     "name": "stderr",
     "output_type": "stream",
     "text": [
      "/home/emarquer/anaconda3/envs/meat/lib/python3.10/site-packages/torch/cuda/__init__.py:107: UserWarning: CUDA initialization: CUDA unknown error - this may be due to an incorrectly set up environment, e.g. changing env variable CUDA_VISIBLE_DEVICES after program start. Setting the available devices to be zero. (Triggered internally at /opt/conda/conda-bld/pytorch_1682343995026/work/c10/cuda/CUDAFunctions.cpp:109.)\n",
      "  return torch._C._cuda_getDeviceCount() > 0\n"
     ]
    },
    {
     "data": {
      "text/html": [
       "<style>#sk-container-id-1 {color: black;background-color: white;}#sk-container-id-1 pre{padding: 0;}#sk-container-id-1 div.sk-toggleable {background-color: white;}#sk-container-id-1 label.sk-toggleable__label {cursor: pointer;display: block;width: 100%;margin-bottom: 0;padding: 0.3em;box-sizing: border-box;text-align: center;}#sk-container-id-1 label.sk-toggleable__label-arrow:before {content: \"▸\";float: left;margin-right: 0.25em;color: #696969;}#sk-container-id-1 label.sk-toggleable__label-arrow:hover:before {color: black;}#sk-container-id-1 div.sk-estimator:hover label.sk-toggleable__label-arrow:before {color: black;}#sk-container-id-1 div.sk-toggleable__content {max-height: 0;max-width: 0;overflow: hidden;text-align: left;background-color: #f0f8ff;}#sk-container-id-1 div.sk-toggleable__content pre {margin: 0.2em;color: black;border-radius: 0.25em;background-color: #f0f8ff;}#sk-container-id-1 input.sk-toggleable__control:checked~div.sk-toggleable__content {max-height: 200px;max-width: 100%;overflow: auto;}#sk-container-id-1 input.sk-toggleable__control:checked~label.sk-toggleable__label-arrow:before {content: \"▾\";}#sk-container-id-1 div.sk-estimator input.sk-toggleable__control:checked~label.sk-toggleable__label {background-color: #d4ebff;}#sk-container-id-1 div.sk-label input.sk-toggleable__control:checked~label.sk-toggleable__label {background-color: #d4ebff;}#sk-container-id-1 input.sk-hidden--visually {border: 0;clip: rect(1px 1px 1px 1px);clip: rect(1px, 1px, 1px, 1px);height: 1px;margin: -1px;overflow: hidden;padding: 0;position: absolute;width: 1px;}#sk-container-id-1 div.sk-estimator {font-family: monospace;background-color: #f0f8ff;border: 1px dotted black;border-radius: 0.25em;box-sizing: border-box;margin-bottom: 0.5em;}#sk-container-id-1 div.sk-estimator:hover {background-color: #d4ebff;}#sk-container-id-1 div.sk-parallel-item::after {content: \"\";width: 100%;border-bottom: 1px solid gray;flex-grow: 1;}#sk-container-id-1 div.sk-label:hover label.sk-toggleable__label {background-color: #d4ebff;}#sk-container-id-1 div.sk-serial::before {content: \"\";position: absolute;border-left: 1px solid gray;box-sizing: border-box;top: 0;bottom: 0;left: 50%;z-index: 0;}#sk-container-id-1 div.sk-serial {display: flex;flex-direction: column;align-items: center;background-color: white;padding-right: 0.2em;padding-left: 0.2em;position: relative;}#sk-container-id-1 div.sk-item {position: relative;z-index: 1;}#sk-container-id-1 div.sk-parallel {display: flex;align-items: stretch;justify-content: center;background-color: white;position: relative;}#sk-container-id-1 div.sk-item::before, #sk-container-id-1 div.sk-parallel-item::before {content: \"\";position: absolute;border-left: 1px solid gray;box-sizing: border-box;top: 0;bottom: 0;left: 50%;z-index: -1;}#sk-container-id-1 div.sk-parallel-item {display: flex;flex-direction: column;z-index: 1;position: relative;background-color: white;}#sk-container-id-1 div.sk-parallel-item:first-child::after {align-self: flex-end;width: 50%;}#sk-container-id-1 div.sk-parallel-item:last-child::after {align-self: flex-start;width: 50%;}#sk-container-id-1 div.sk-parallel-item:only-child::after {width: 0;}#sk-container-id-1 div.sk-dashed-wrapped {border: 1px dashed gray;margin: 0 0.4em 0.5em 0.4em;box-sizing: border-box;padding-bottom: 0.4em;background-color: white;}#sk-container-id-1 div.sk-label label {font-family: monospace;font-weight: bold;display: inline-block;line-height: 1.2em;}#sk-container-id-1 div.sk-label-container {text-align: center;}#sk-container-id-1 div.sk-container {/* jupyter's `normalize.less` sets `[hidden] { display: none; }` but bootstrap.min.css set `[hidden] { display: none !important; }` so we also need the `!important` here to be able to override the default hidden behavior on the sphinx rendered scikit-learn.org. See: https://github.com/scikit-learn/scikit-learn/issues/21755 */display: inline-block !important;position: relative;}#sk-container-id-1 div.sk-text-repr-fallback {display: none;}</style><div id=\"sk-container-id-1\" class=\"sk-top-container\"><div class=\"sk-text-repr-fallback\"><pre>MeATCubeCB(sim_X=&lt;function euclidean_sim at 0x7576af32e950&gt;,\n",
       "           sim_y=&lt;function class_equality_sim at 0x7576af32ecb0&gt;)</pre><b>In a Jupyter environment, please rerun this cell to show the HTML representation or trust the notebook. <br />On GitHub, the HTML representation is unable to render, please try loading this page with nbviewer.org.</b></div><div class=\"sk-container\" hidden><div class=\"sk-item\"><div class=\"sk-estimator sk-toggleable\"><input class=\"sk-toggleable__control sk-hidden--visually\" id=\"sk-estimator-id-1\" type=\"checkbox\" checked><label for=\"sk-estimator-id-1\" class=\"sk-toggleable__label sk-toggleable__label-arrow\">MeATCubeCB</label><div class=\"sk-toggleable__content\"><pre>MeATCubeCB(sim_X=&lt;function euclidean_sim at 0x7576af32e950&gt;,\n",
       "           sim_y=&lt;function class_equality_sim at 0x7576af32ecb0&gt;)</pre></div></div></div></div></div>"
      ],
      "text/plain": [
       "MeATCubeCB(sim_X=<function euclidean_sim at 0x7576af32e950>,\n",
       "           sim_y=<function class_equality_sim at 0x7576af32ecb0>)"
      ]
     },
     "execution_count": 7,
     "metadata": {},
     "output_type": "execute_result"
    }
   ],
   "source": [
    "# Split the data\n",
    "(X, y), dataset_name = datasets[0], dataset_names[0]\n",
    "X_train, X_test, y_train, y_test = train_test_split(\n",
    "    X, y, test_size=0.4, random_state=42\n",
    ")\n",
    "\n",
    "# Use the train set as the case base\n",
    "clf.fit(X_train, y_train)"
   ]
  },
  {
   "cell_type": "code",
   "execution_count": 8,
   "metadata": {},
   "outputs": [],
   "source": [
    "from meatcube2.metrics import confidence, loss_functional_values"
   ]
  },
  {
   "cell_type": "code",
   "execution_count": 10,
   "metadata": {},
   "outputs": [
    {
     "data": {
      "text/plain": [
       "array([[1.27932929e-04, 1.22599267e-03],\n",
       "       [1.16318946e-02, 8.77148516e-06],\n",
       "       [1.34190632e-07, 7.85512171e-02],\n",
       "       [2.60888009e-05, 8.72625199e-04],\n",
       "       [5.89492158e-07, 8.27923737e-03],\n",
       "       [5.34593229e-04, 2.08826996e-04],\n",
       "       [3.52953370e-02, 1.48303584e-07],\n",
       "       [5.67650628e-04, 3.55701263e-05],\n",
       "       [3.31653660e-05, 2.23390429e-03],\n",
       "       [1.92273924e-03, 1.61433167e-05],\n",
       "       [1.46777971e-03, 1.89443577e-05],\n",
       "       [1.65920065e-04, 4.88581423e-04],\n",
       "       [3.35739631e-02, 1.84320543e-06],\n",
       "       [1.59002678e-03, 6.04312369e-05],\n",
       "       [3.10728967e-03, 3.45188702e-05],\n",
       "       [1.02173906e-06, 3.60083501e-02],\n",
       "       [8.30066766e-04, 1.11219546e-04],\n",
       "       [2.19041545e-07, 5.16118274e-02],\n",
       "       [5.53541071e-02, 5.95416653e-07],\n",
       "       [1.74878462e-05, 6.38371910e-03],\n",
       "       [2.27314825e-02, 1.89933939e-06],\n",
       "       [4.87320026e-03, 7.05750247e-07],\n",
       "       [9.35897665e-04, 1.10112893e-04],\n",
       "       [4.58940717e-03, 1.05285565e-06],\n",
       "       [3.86323972e-06, 1.29844289e-02],\n",
       "       [1.31533480e-07, 6.36723791e-02],\n",
       "       [1.36501548e-02, 9.24507735e-07],\n",
       "       [2.37204122e-03, 3.15478720e-05],\n",
       "       [4.39806981e-02, 3.07741891e-07],\n",
       "       [6.84892175e-07, 5.59104251e-02],\n",
       "       [3.20301076e-07, 6.43122971e-02],\n",
       "       [1.55504757e-06, 3.09926742e-02],\n",
       "       [4.67003126e-02, 2.75685691e-07],\n",
       "       [5.07207934e-03, 1.24795491e-06],\n",
       "       [7.71950976e-03, 3.10834749e-07],\n",
       "       [2.86838989e-03, 3.48657907e-05],\n",
       "       [1.08491988e-06, 1.78812175e-02],\n",
       "       [1.04237956e-06, 1.19861385e-02],\n",
       "       [6.79601188e-04, 1.42808724e-04],\n",
       "       [1.27273199e-02, 7.70220105e-06],\n",
       "       [9.03861666e-06, 4.63553148e-03],\n",
       "       [7.28877834e-04, 2.01158113e-05],\n",
       "       [7.73949122e-04, 1.77950627e-04],\n",
       "       [1.49407328e-06, 1.87980071e-02],\n",
       "       [6.51489589e-07, 8.96879077e-03],\n",
       "       [1.25075937e-03, 7.38108794e-05],\n",
       "       [9.50203644e-06, 8.53137769e-03],\n",
       "       [1.53559979e-05, 9.81342022e-03],\n",
       "       [6.91775456e-07, 4.62356368e-02],\n",
       "       [3.92095777e-04, 3.02326070e-04],\n",
       "       [1.82424420e-02, 4.23799903e-07],\n",
       "       [4.67162108e-06, 2.25635541e-03],\n",
       "       [6.41680959e-05, 1.81076763e-03],\n",
       "       [1.44991675e-06, 3.22575092e-02],\n",
       "       [2.31906889e-02, 1.03200771e-06],\n",
       "       [8.36244509e-03, 7.93676799e-06],\n",
       "       [2.01610164e-02, 1.49794060e-07],\n",
       "       [5.02161130e-03, 1.47538806e-05],\n",
       "       [2.80433313e-02, 2.80528781e-06],\n",
       "       [2.37818110e-04, 1.96665858e-04]])"
      ]
     },
     "execution_count": 10,
     "metadata": {},
     "output_type": "execute_result"
    }
   ],
   "source": [
    "confidence(clf, X_train, temperature=100)"
   ]
  },
  {
   "cell_type": "code",
   "execution_count": null,
   "metadata": {},
   "outputs": [],
   "source": []
  }
 ],
 "metadata": {
  "kernelspec": {
   "display_name": "meat",
   "language": "python",
   "name": "python3"
  },
  "language_info": {
   "codemirror_mode": {
    "name": "ipython",
    "version": 3
   },
   "file_extension": ".py",
   "mimetype": "text/x-python",
   "name": "python",
   "nbconvert_exporter": "python",
   "pygments_lexer": "ipython3",
   "version": "3.10.11"
  }
 },
 "nbformat": 4,
 "nbformat_minor": 2
}
